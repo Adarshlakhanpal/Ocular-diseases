{
 "cells": [
  {
   "cell_type": "code",
   "execution_count": 1,
   "id": "afec32d6-cad5-4feb-b1c3-d551f49de454",
   "metadata": {},
   "outputs": [],
   "source": [
    "import pandas as pd # data processing, CSV file I/O (e.g. pd.read_csv)\n",
    "import os\n",
    "import random\n",
    "import itertools\n",
    "import cv2\n",
    "import matplotlib.pyplot as plt\n",
    "from tqdm import tqdm\n",
    "import math\n",
    "\n",
    "import tensorflow as tf\n",
    "from tensorflow import keras\n",
    "from tensorflow.keras import layers\n",
    "from tensorflow.keras.preprocessing.image import load_img,img_to_array\n",
    "\n",
    "from tensorflow.keras.utils import to_categorical\n"
   ]
  },
  {
   "cell_type": "code",
   "execution_count": 2,
   "id": "e57d0043-247a-40ff-87b5-2bb62d90439d",
   "metadata": {},
   "outputs": [],
   "source": [
    "from keras.models import Model, Sequential, load_model\n",
    "from keras.layers import Dense, Conv2D, MaxPool2D, Flatten, Reshape, Dropout\n",
    "from keras.preprocessing import image\n",
    "from tensorflow.keras.preprocessing.image import ImageDataGenerator\n",
    "\n",
    "from keras.optimizers import Adam\n",
    "from keras.callbacks import ModelCheckpoint, EarlyStopping"
   ]
  },
  {
   "cell_type": "code",
   "execution_count": 3,
   "id": "57f7d129-18d4-4097-a6e8-2eca1111577a",
   "metadata": {},
   "outputs": [],
   "source": [
    "## models to import\n",
    "from keras.applications.vgg16 import VGG16\n",
    "from keras.applications.vgg16 import preprocess_input\n",
    "\n",
    "from sklearn.metrics import confusion_matrix,classification_report,accuracy_score\n",
    "from sklearn.model_selection import train_test_split\n",
    "from sklearn.utils import shuffle"
   ]
  },
  {
   "cell_type": "code",
   "execution_count": 4,
   "id": "6641f301-84b1-4afe-aaa2-32e62afe2be4",
   "metadata": {},
   "outputs": [],
   "source": [
    "img_size = 224"
   ]
  },
  {
   "cell_type": "code",
   "execution_count": 8,
   "id": "f0d6ba04-f643-44b1-84a2-a814be68533e",
   "metadata": {
    "scrolled": true
   },
   "outputs": [
    {
     "data": {
      "text/html": [
       "<div>\n",
       "<style scoped>\n",
       "    .dataframe tbody tr th:only-of-type {\n",
       "        vertical-align: middle;\n",
       "    }\n",
       "\n",
       "    .dataframe tbody tr th {\n",
       "        vertical-align: top;\n",
       "    }\n",
       "\n",
       "    .dataframe thead th {\n",
       "        text-align: right;\n",
       "    }\n",
       "</style>\n",
       "<table border=\"1\" class=\"dataframe\">\n",
       "  <thead>\n",
       "    <tr style=\"text-align: right;\">\n",
       "      <th></th>\n",
       "      <th>ID</th>\n",
       "      <th>Patient Age</th>\n",
       "      <th>Patient Sex</th>\n",
       "      <th>Left-Fundus</th>\n",
       "      <th>Right-Fundus</th>\n",
       "      <th>Left-Diagnostic Keywords</th>\n",
       "      <th>Right-Diagnostic Keywords</th>\n",
       "      <th>N</th>\n",
       "      <th>D</th>\n",
       "      <th>G</th>\n",
       "      <th>C</th>\n",
       "      <th>A</th>\n",
       "      <th>H</th>\n",
       "      <th>M</th>\n",
       "      <th>O</th>\n",
       "      <th>filepath</th>\n",
       "      <th>labels</th>\n",
       "      <th>target</th>\n",
       "      <th>filename</th>\n",
       "    </tr>\n",
       "  </thead>\n",
       "  <tbody>\n",
       "    <tr>\n",
       "      <th>0</th>\n",
       "      <td>0</td>\n",
       "      <td>69</td>\n",
       "      <td>Female</td>\n",
       "      <td>0_left.jpg</td>\n",
       "      <td>0_right.jpg</td>\n",
       "      <td>cataract</td>\n",
       "      <td>normal fundus</td>\n",
       "      <td>0</td>\n",
       "      <td>0</td>\n",
       "      <td>0</td>\n",
       "      <td>1</td>\n",
       "      <td>0</td>\n",
       "      <td>0</td>\n",
       "      <td>0</td>\n",
       "      <td>0</td>\n",
       "      <td>../input/ocular-disease-recognition-odir5k/ODI...</td>\n",
       "      <td>['N']</td>\n",
       "      <td>[1, 0, 0, 0, 0, 0, 0, 0]</td>\n",
       "      <td>0_right.jpg</td>\n",
       "    </tr>\n",
       "    <tr>\n",
       "      <th>1</th>\n",
       "      <td>1</td>\n",
       "      <td>57</td>\n",
       "      <td>Male</td>\n",
       "      <td>1_left.jpg</td>\n",
       "      <td>1_right.jpg</td>\n",
       "      <td>normal fundus</td>\n",
       "      <td>normal fundus</td>\n",
       "      <td>1</td>\n",
       "      <td>0</td>\n",
       "      <td>0</td>\n",
       "      <td>0</td>\n",
       "      <td>0</td>\n",
       "      <td>0</td>\n",
       "      <td>0</td>\n",
       "      <td>0</td>\n",
       "      <td>../input/ocular-disease-recognition-odir5k/ODI...</td>\n",
       "      <td>['N']</td>\n",
       "      <td>[1, 0, 0, 0, 0, 0, 0, 0]</td>\n",
       "      <td>1_right.jpg</td>\n",
       "    </tr>\n",
       "    <tr>\n",
       "      <th>2</th>\n",
       "      <td>2</td>\n",
       "      <td>42</td>\n",
       "      <td>Male</td>\n",
       "      <td>2_left.jpg</td>\n",
       "      <td>2_right.jpg</td>\n",
       "      <td>laser spot，moderate non proliferative retinopathy</td>\n",
       "      <td>moderate non proliferative retinopathy</td>\n",
       "      <td>0</td>\n",
       "      <td>1</td>\n",
       "      <td>0</td>\n",
       "      <td>0</td>\n",
       "      <td>0</td>\n",
       "      <td>0</td>\n",
       "      <td>0</td>\n",
       "      <td>1</td>\n",
       "      <td>../input/ocular-disease-recognition-odir5k/ODI...</td>\n",
       "      <td>['D']</td>\n",
       "      <td>[0, 1, 0, 0, 0, 0, 0, 0]</td>\n",
       "      <td>2_right.jpg</td>\n",
       "    </tr>\n",
       "    <tr>\n",
       "      <th>3</th>\n",
       "      <td>4</td>\n",
       "      <td>53</td>\n",
       "      <td>Male</td>\n",
       "      <td>4_left.jpg</td>\n",
       "      <td>4_right.jpg</td>\n",
       "      <td>macular epiretinal membrane</td>\n",
       "      <td>mild nonproliferative retinopathy</td>\n",
       "      <td>0</td>\n",
       "      <td>1</td>\n",
       "      <td>0</td>\n",
       "      <td>0</td>\n",
       "      <td>0</td>\n",
       "      <td>0</td>\n",
       "      <td>0</td>\n",
       "      <td>1</td>\n",
       "      <td>../input/ocular-disease-recognition-odir5k/ODI...</td>\n",
       "      <td>['D']</td>\n",
       "      <td>[0, 1, 0, 0, 0, 0, 0, 0]</td>\n",
       "      <td>4_right.jpg</td>\n",
       "    </tr>\n",
       "    <tr>\n",
       "      <th>4</th>\n",
       "      <td>5</td>\n",
       "      <td>50</td>\n",
       "      <td>Female</td>\n",
       "      <td>5_left.jpg</td>\n",
       "      <td>5_right.jpg</td>\n",
       "      <td>moderate non proliferative retinopathy</td>\n",
       "      <td>moderate non proliferative retinopathy</td>\n",
       "      <td>0</td>\n",
       "      <td>1</td>\n",
       "      <td>0</td>\n",
       "      <td>0</td>\n",
       "      <td>0</td>\n",
       "      <td>0</td>\n",
       "      <td>0</td>\n",
       "      <td>0</td>\n",
       "      <td>../input/ocular-disease-recognition-odir5k/ODI...</td>\n",
       "      <td>['D']</td>\n",
       "      <td>[0, 1, 0, 0, 0, 0, 0, 0]</td>\n",
       "      <td>5_right.jpg</td>\n",
       "    </tr>\n",
       "  </tbody>\n",
       "</table>\n",
       "</div>"
      ],
      "text/plain": [
       "   ID  Patient Age Patient Sex Left-Fundus Right-Fundus  \\\n",
       "0   0           69      Female  0_left.jpg  0_right.jpg   \n",
       "1   1           57        Male  1_left.jpg  1_right.jpg   \n",
       "2   2           42        Male  2_left.jpg  2_right.jpg   \n",
       "3   4           53        Male  4_left.jpg  4_right.jpg   \n",
       "4   5           50      Female  5_left.jpg  5_right.jpg   \n",
       "\n",
       "                            Left-Diagnostic Keywords  \\\n",
       "0                                           cataract   \n",
       "1                                      normal fundus   \n",
       "2  laser spot，moderate non proliferative retinopathy   \n",
       "3                        macular epiretinal membrane   \n",
       "4             moderate non proliferative retinopathy   \n",
       "\n",
       "                Right-Diagnostic Keywords  N  D  G  C  A  H  M  O  \\\n",
       "0                           normal fundus  0  0  0  1  0  0  0  0   \n",
       "1                           normal fundus  1  0  0  0  0  0  0  0   \n",
       "2  moderate non proliferative retinopathy  0  1  0  0  0  0  0  1   \n",
       "3       mild nonproliferative retinopathy  0  1  0  0  0  0  0  1   \n",
       "4  moderate non proliferative retinopathy  0  1  0  0  0  0  0  0   \n",
       "\n",
       "                                            filepath labels  \\\n",
       "0  ../input/ocular-disease-recognition-odir5k/ODI...  ['N']   \n",
       "1  ../input/ocular-disease-recognition-odir5k/ODI...  ['N']   \n",
       "2  ../input/ocular-disease-recognition-odir5k/ODI...  ['D']   \n",
       "3  ../input/ocular-disease-recognition-odir5k/ODI...  ['D']   \n",
       "4  ../input/ocular-disease-recognition-odir5k/ODI...  ['D']   \n",
       "\n",
       "                     target     filename  \n",
       "0  [1, 0, 0, 0, 0, 0, 0, 0]  0_right.jpg  \n",
       "1  [1, 0, 0, 0, 0, 0, 0, 0]  1_right.jpg  \n",
       "2  [0, 1, 0, 0, 0, 0, 0, 0]  2_right.jpg  \n",
       "3  [0, 1, 0, 0, 0, 0, 0, 0]  4_right.jpg  \n",
       "4  [0, 1, 0, 0, 0, 0, 0, 0]  5_right.jpg  "
      ]
     },
     "execution_count": 8,
     "metadata": {},
     "output_type": "execute_result"
    }
   ],
   "source": [
    "df_data = pd.read_csv(r\"C:\\Users\\adars\\OneDrive\\Desktop\\jupyter projects\\ocular disease data set\\full_df.csv\")\n",
    "df_data.head()"
   ]
  },
  {
   "cell_type": "code",
   "execution_count": 9,
   "id": "8ec65754-769f-4cba-8518-b5fe395db984",
   "metadata": {
    "scrolled": true
   },
   "outputs": [
    {
     "data": {
      "text/html": [
       "<div>\n",
       "<style scoped>\n",
       "    .dataframe tbody tr th:only-of-type {\n",
       "        vertical-align: middle;\n",
       "    }\n",
       "\n",
       "    .dataframe tbody tr th {\n",
       "        vertical-align: top;\n",
       "    }\n",
       "\n",
       "    .dataframe thead th {\n",
       "        text-align: right;\n",
       "    }\n",
       "</style>\n",
       "<table border=\"1\" class=\"dataframe\">\n",
       "  <thead>\n",
       "    <tr style=\"text-align: right;\">\n",
       "      <th></th>\n",
       "      <th>ID</th>\n",
       "      <th>Patient Age</th>\n",
       "      <th>Patient Sex</th>\n",
       "      <th>Left-Fundus</th>\n",
       "      <th>Right-Fundus</th>\n",
       "      <th>Left-Diagnostic Keywords</th>\n",
       "      <th>Right-Diagnostic Keywords</th>\n",
       "      <th>N</th>\n",
       "      <th>D</th>\n",
       "      <th>G</th>\n",
       "      <th>C</th>\n",
       "      <th>A</th>\n",
       "      <th>H</th>\n",
       "      <th>M</th>\n",
       "      <th>O</th>\n",
       "      <th>filepath</th>\n",
       "      <th>labels</th>\n",
       "      <th>target</th>\n",
       "      <th>filename</th>\n",
       "    </tr>\n",
       "  </thead>\n",
       "  <tbody>\n",
       "    <tr>\n",
       "      <th>0</th>\n",
       "      <td>0</td>\n",
       "      <td>69</td>\n",
       "      <td>Female</td>\n",
       "      <td>0_left.jpg</td>\n",
       "      <td>0_right.jpg</td>\n",
       "      <td>cataract</td>\n",
       "      <td>normal fundus</td>\n",
       "      <td>0</td>\n",
       "      <td>0</td>\n",
       "      <td>0</td>\n",
       "      <td>1</td>\n",
       "      <td>0</td>\n",
       "      <td>0</td>\n",
       "      <td>0</td>\n",
       "      <td>0</td>\n",
       "      <td>../input/ocular-disease-recognition-odir5k/ODI...</td>\n",
       "      <td>['N']</td>\n",
       "      <td>[1, 0, 0, 0, 0, 0, 0, 0]</td>\n",
       "      <td>0_right.jpg</td>\n",
       "    </tr>\n",
       "    <tr>\n",
       "      <th>20</th>\n",
       "      <td>24</td>\n",
       "      <td>75</td>\n",
       "      <td>Female</td>\n",
       "      <td>24_left.jpg</td>\n",
       "      <td>24_right.jpg</td>\n",
       "      <td>normal fundus</td>\n",
       "      <td>cataract</td>\n",
       "      <td>0</td>\n",
       "      <td>0</td>\n",
       "      <td>0</td>\n",
       "      <td>1</td>\n",
       "      <td>0</td>\n",
       "      <td>0</td>\n",
       "      <td>0</td>\n",
       "      <td>0</td>\n",
       "      <td>../input/ocular-disease-recognition-odir5k/ODI...</td>\n",
       "      <td>['C']</td>\n",
       "      <td>[0, 0, 0, 1, 0, 0, 0, 0]</td>\n",
       "      <td>24_right.jpg</td>\n",
       "    </tr>\n",
       "    <tr>\n",
       "      <th>65</th>\n",
       "      <td>81</td>\n",
       "      <td>66</td>\n",
       "      <td>Male</td>\n",
       "      <td>81_left.jpg</td>\n",
       "      <td>81_right.jpg</td>\n",
       "      <td>moderate non proliferative retinopathy，cataract</td>\n",
       "      <td>moderate non proliferative retinopathy，cataract</td>\n",
       "      <td>0</td>\n",
       "      <td>1</td>\n",
       "      <td>0</td>\n",
       "      <td>1</td>\n",
       "      <td>0</td>\n",
       "      <td>0</td>\n",
       "      <td>0</td>\n",
       "      <td>0</td>\n",
       "      <td>../input/ocular-disease-recognition-odir5k/ODI...</td>\n",
       "      <td>['D']</td>\n",
       "      <td>[0, 1, 0, 0, 0, 0, 0, 0]</td>\n",
       "      <td>81_right.jpg</td>\n",
       "    </tr>\n",
       "    <tr>\n",
       "      <th>86</th>\n",
       "      <td>103</td>\n",
       "      <td>55</td>\n",
       "      <td>Female</td>\n",
       "      <td>103_left.jpg</td>\n",
       "      <td>103_right.jpg</td>\n",
       "      <td>cataract</td>\n",
       "      <td>normal fundus</td>\n",
       "      <td>0</td>\n",
       "      <td>0</td>\n",
       "      <td>0</td>\n",
       "      <td>1</td>\n",
       "      <td>0</td>\n",
       "      <td>0</td>\n",
       "      <td>0</td>\n",
       "      <td>0</td>\n",
       "      <td>../input/ocular-disease-recognition-odir5k/ODI...</td>\n",
       "      <td>['N']</td>\n",
       "      <td>[1, 0, 0, 0, 0, 0, 0, 0]</td>\n",
       "      <td>103_right.jpg</td>\n",
       "    </tr>\n",
       "    <tr>\n",
       "      <th>93</th>\n",
       "      <td>112</td>\n",
       "      <td>57</td>\n",
       "      <td>Female</td>\n",
       "      <td>112_left.jpg</td>\n",
       "      <td>112_right.jpg</td>\n",
       "      <td>normal fundus</td>\n",
       "      <td>cataract</td>\n",
       "      <td>0</td>\n",
       "      <td>0</td>\n",
       "      <td>0</td>\n",
       "      <td>1</td>\n",
       "      <td>0</td>\n",
       "      <td>0</td>\n",
       "      <td>0</td>\n",
       "      <td>0</td>\n",
       "      <td>../input/ocular-disease-recognition-odir5k/ODI...</td>\n",
       "      <td>['C']</td>\n",
       "      <td>[0, 0, 0, 1, 0, 0, 0, 0]</td>\n",
       "      <td>112_right.jpg</td>\n",
       "    </tr>\n",
       "  </tbody>\n",
       "</table>\n",
       "</div>"
      ],
      "text/plain": [
       "     ID  Patient Age Patient Sex   Left-Fundus   Right-Fundus  \\\n",
       "0     0           69      Female    0_left.jpg    0_right.jpg   \n",
       "20   24           75      Female   24_left.jpg   24_right.jpg   \n",
       "65   81           66        Male   81_left.jpg   81_right.jpg   \n",
       "86  103           55      Female  103_left.jpg  103_right.jpg   \n",
       "93  112           57      Female  112_left.jpg  112_right.jpg   \n",
       "\n",
       "                           Left-Diagnostic Keywords  \\\n",
       "0                                          cataract   \n",
       "20                                    normal fundus   \n",
       "65  moderate non proliferative retinopathy，cataract   \n",
       "86                                         cataract   \n",
       "93                                    normal fundus   \n",
       "\n",
       "                          Right-Diagnostic Keywords  N  D  G  C  A  H  M  O  \\\n",
       "0                                     normal fundus  0  0  0  1  0  0  0  0   \n",
       "20                                         cataract  0  0  0  1  0  0  0  0   \n",
       "65  moderate non proliferative retinopathy，cataract  0  1  0  1  0  0  0  0   \n",
       "86                                    normal fundus  0  0  0  1  0  0  0  0   \n",
       "93                                         cataract  0  0  0  1  0  0  0  0   \n",
       "\n",
       "                                             filepath labels  \\\n",
       "0   ../input/ocular-disease-recognition-odir5k/ODI...  ['N']   \n",
       "20  ../input/ocular-disease-recognition-odir5k/ODI...  ['C']   \n",
       "65  ../input/ocular-disease-recognition-odir5k/ODI...  ['D']   \n",
       "86  ../input/ocular-disease-recognition-odir5k/ODI...  ['N']   \n",
       "93  ../input/ocular-disease-recognition-odir5k/ODI...  ['C']   \n",
       "\n",
       "                      target       filename  \n",
       "0   [1, 0, 0, 0, 0, 0, 0, 0]    0_right.jpg  \n",
       "20  [0, 0, 0, 1, 0, 0, 0, 0]   24_right.jpg  \n",
       "65  [0, 1, 0, 0, 0, 0, 0, 0]   81_right.jpg  \n",
       "86  [1, 0, 0, 0, 0, 0, 0, 0]  103_right.jpg  \n",
       "93  [0, 0, 0, 1, 0, 0, 0, 0]  112_right.jpg  "
      ]
     },
     "execution_count": 9,
     "metadata": {},
     "output_type": "execute_result"
    }
   ],
   "source": [
    "df_data[df_data.C==1].head()\n"
   ]
  },
  {
   "cell_type": "code",
   "execution_count": 10,
   "id": "bfafc058-9c5e-44df-8965-43a1eee4232d",
   "metadata": {},
   "outputs": [
    {
     "name": "stdout",
     "output_type": "stream",
     "text": [
      "<class 'pandas.core.frame.DataFrame'>\n",
      "RangeIndex: 6392 entries, 0 to 6391\n",
      "Data columns (total 19 columns):\n",
      " #   Column                     Non-Null Count  Dtype \n",
      "---  ------                     --------------  ----- \n",
      " 0   ID                         6392 non-null   int64 \n",
      " 1   Patient Age                6392 non-null   int64 \n",
      " 2   Patient Sex                6392 non-null   object\n",
      " 3   Left-Fundus                6392 non-null   object\n",
      " 4   Right-Fundus               6392 non-null   object\n",
      " 5   Left-Diagnostic Keywords   6392 non-null   object\n",
      " 6   Right-Diagnostic Keywords  6392 non-null   object\n",
      " 7   N                          6392 non-null   int64 \n",
      " 8   D                          6392 non-null   int64 \n",
      " 9   G                          6392 non-null   int64 \n",
      " 10  C                          6392 non-null   int64 \n",
      " 11  A                          6392 non-null   int64 \n",
      " 12  H                          6392 non-null   int64 \n",
      " 13  M                          6392 non-null   int64 \n",
      " 14  O                          6392 non-null   int64 \n",
      " 15  filepath                   6392 non-null   object\n",
      " 16  labels                     6392 non-null   object\n",
      " 17  target                     6392 non-null   object\n",
      " 18  filename                   6392 non-null   object\n",
      "dtypes: int64(10), object(9)\n",
      "memory usage: 948.9+ KB\n"
     ]
    }
   ],
   "source": [
    "df_data.info()\n"
   ]
  },
  {
   "cell_type": "code",
   "execution_count": 11,
   "id": "8bca3e02-d876-4df2-9c16-f4cf3a0b77ad",
   "metadata": {
    "scrolled": true
   },
   "outputs": [
    {
     "data": {
      "text/plain": [
       "ID                              2.0\n",
       "Patient Age                    28.0\n",
       "Patient Sex                       0\n",
       "Left-Fundus                       0\n",
       "Right-Fundus                      0\n",
       "Left-Diagnostic Keywords          0\n",
       "Right-Diagnostic Keywords         0\n",
       "N                            2101.0\n",
       "D                            2123.0\n",
       "G                             397.0\n",
       "C                             402.0\n",
       "A                             319.0\n",
       "H                             203.0\n",
       "M                             306.0\n",
       "O                            1588.0\n",
       "filepath                          0\n",
       "labels                            0\n",
       "target                            0\n",
       "filename                          0\n",
       "dtype: object"
      ]
     },
     "execution_count": 11,
     "metadata": {},
     "output_type": "execute_result"
    }
   ],
   "source": [
    "df_data[df_data == 1].sum(axis=0)\n"
   ]
  },
  {
   "cell_type": "code",
   "execution_count": 12,
   "id": "4b0e966d-e6ce-4f3a-ba3a-49804a8a60e2",
   "metadata": {},
   "outputs": [
    {
     "data": {
      "text/html": [
       "<div>\n",
       "<style scoped>\n",
       "    .dataframe tbody tr th:only-of-type {\n",
       "        vertical-align: middle;\n",
       "    }\n",
       "\n",
       "    .dataframe tbody tr th {\n",
       "        vertical-align: top;\n",
       "    }\n",
       "\n",
       "    .dataframe thead th {\n",
       "        text-align: right;\n",
       "    }\n",
       "</style>\n",
       "<table border=\"1\" class=\"dataframe\">\n",
       "  <thead>\n",
       "    <tr style=\"text-align: right;\">\n",
       "      <th></th>\n",
       "      <th>Patient Age</th>\n",
       "      <th>Patient Sex</th>\n",
       "      <th>Left-Fundus</th>\n",
       "      <th>Right-Fundus</th>\n",
       "      <th>Left-Diagnostic Keywords</th>\n",
       "      <th>Right-Diagnostic Keywords</th>\n",
       "    </tr>\n",
       "  </thead>\n",
       "  <tbody>\n",
       "    <tr>\n",
       "      <th>0</th>\n",
       "      <td>69</td>\n",
       "      <td>Female</td>\n",
       "      <td>0_left.jpg</td>\n",
       "      <td>0_right.jpg</td>\n",
       "      <td>cataract</td>\n",
       "      <td>normal fundus</td>\n",
       "    </tr>\n",
       "    <tr>\n",
       "      <th>1</th>\n",
       "      <td>57</td>\n",
       "      <td>Male</td>\n",
       "      <td>1_left.jpg</td>\n",
       "      <td>1_right.jpg</td>\n",
       "      <td>normal fundus</td>\n",
       "      <td>normal fundus</td>\n",
       "    </tr>\n",
       "    <tr>\n",
       "      <th>2</th>\n",
       "      <td>42</td>\n",
       "      <td>Male</td>\n",
       "      <td>2_left.jpg</td>\n",
       "      <td>2_right.jpg</td>\n",
       "      <td>laser spot，moderate non proliferative retinopathy</td>\n",
       "      <td>moderate non proliferative retinopathy</td>\n",
       "    </tr>\n",
       "    <tr>\n",
       "      <th>3</th>\n",
       "      <td>53</td>\n",
       "      <td>Male</td>\n",
       "      <td>4_left.jpg</td>\n",
       "      <td>4_right.jpg</td>\n",
       "      <td>macular epiretinal membrane</td>\n",
       "      <td>mild nonproliferative retinopathy</td>\n",
       "    </tr>\n",
       "    <tr>\n",
       "      <th>4</th>\n",
       "      <td>50</td>\n",
       "      <td>Female</td>\n",
       "      <td>5_left.jpg</td>\n",
       "      <td>5_right.jpg</td>\n",
       "      <td>moderate non proliferative retinopathy</td>\n",
       "      <td>moderate non proliferative retinopathy</td>\n",
       "    </tr>\n",
       "  </tbody>\n",
       "</table>\n",
       "</div>"
      ],
      "text/plain": [
       "   Patient Age Patient Sex Left-Fundus Right-Fundus  \\\n",
       "0           69      Female  0_left.jpg  0_right.jpg   \n",
       "1           57        Male  1_left.jpg  1_right.jpg   \n",
       "2           42        Male  2_left.jpg  2_right.jpg   \n",
       "3           53        Male  4_left.jpg  4_right.jpg   \n",
       "4           50      Female  5_left.jpg  5_right.jpg   \n",
       "\n",
       "                            Left-Diagnostic Keywords  \\\n",
       "0                                           cataract   \n",
       "1                                      normal fundus   \n",
       "2  laser spot，moderate non proliferative retinopathy   \n",
       "3                        macular epiretinal membrane   \n",
       "4             moderate non proliferative retinopathy   \n",
       "\n",
       "                Right-Diagnostic Keywords  \n",
       "0                           normal fundus  \n",
       "1                           normal fundus  \n",
       "2  moderate non proliferative retinopathy  \n",
       "3       mild nonproliferative retinopathy  \n",
       "4  moderate non proliferative retinopathy  "
      ]
     },
     "execution_count": 12,
     "metadata": {},
     "output_type": "execute_result"
    }
   ],
   "source": [
    "df_data2 = df_data.iloc[:, 1:7]\n",
    "#df_data2['filepath'] = pd.Series(df_data['filepath'])\n",
    "df_data2.head()"
   ]
  },
  {
   "cell_type": "code",
   "execution_count": 13,
   "id": "c3f6ee83-a194-4930-bae2-0dfe065180e4",
   "metadata": {},
   "outputs": [],
   "source": [
    "img_dir =(r\"C:\\Users\\adars\\OneDrive\\Desktop\\jupyter projects\\data set\\preprocessed_images\")"
   ]
  },
  {
   "cell_type": "code",
   "execution_count": 14,
   "id": "714da97d-e559-4c86-b0b5-fc7b98d015c6",
   "metadata": {
    "scrolled": true
   },
   "outputs": [
    {
     "data": {
      "text/html": [
       "<div>\n",
       "<style scoped>\n",
       "    .dataframe tbody tr th:only-of-type {\n",
       "        vertical-align: middle;\n",
       "    }\n",
       "\n",
       "    .dataframe tbody tr th {\n",
       "        vertical-align: top;\n",
       "    }\n",
       "\n",
       "    .dataframe thead th {\n",
       "        text-align: right;\n",
       "    }\n",
       "</style>\n",
       "<table border=\"1\" class=\"dataframe\">\n",
       "  <thead>\n",
       "    <tr style=\"text-align: right;\">\n",
       "      <th></th>\n",
       "      <th>Patient Age</th>\n",
       "      <th>Patient Sex</th>\n",
       "      <th>Left-Fundus</th>\n",
       "      <th>Right-Fundus</th>\n",
       "      <th>Left-Diagnostic Keywords</th>\n",
       "      <th>Right-Diagnostic Keywords</th>\n",
       "    </tr>\n",
       "  </thead>\n",
       "  <tbody>\n",
       "    <tr>\n",
       "      <th>0</th>\n",
       "      <td>69</td>\n",
       "      <td>Female</td>\n",
       "      <td>0_left.jpg</td>\n",
       "      <td>0_right.jpg</td>\n",
       "      <td>cataract</td>\n",
       "      <td>normal fundus</td>\n",
       "    </tr>\n",
       "    <tr>\n",
       "      <th>86</th>\n",
       "      <td>55</td>\n",
       "      <td>Female</td>\n",
       "      <td>103_left.jpg</td>\n",
       "      <td>103_right.jpg</td>\n",
       "      <td>cataract</td>\n",
       "      <td>normal fundus</td>\n",
       "    </tr>\n",
       "    <tr>\n",
       "      <th>100</th>\n",
       "      <td>59</td>\n",
       "      <td>Male</td>\n",
       "      <td>119_left.jpg</td>\n",
       "      <td>119_right.jpg</td>\n",
       "      <td>cataract</td>\n",
       "      <td>drusen</td>\n",
       "    </tr>\n",
       "    <tr>\n",
       "      <th>218</th>\n",
       "      <td>60</td>\n",
       "      <td>Female</td>\n",
       "      <td>254_left.jpg</td>\n",
       "      <td>254_right.jpg</td>\n",
       "      <td>cataract</td>\n",
       "      <td>macular epiretinal membrane</td>\n",
       "    </tr>\n",
       "    <tr>\n",
       "      <th>256</th>\n",
       "      <td>69</td>\n",
       "      <td>Female</td>\n",
       "      <td>294_left.jpg</td>\n",
       "      <td>294_right.jpg</td>\n",
       "      <td>cataract</td>\n",
       "      <td>normal fundus</td>\n",
       "    </tr>\n",
       "  </tbody>\n",
       "</table>\n",
       "</div>"
      ],
      "text/plain": [
       "     Patient Age Patient Sex   Left-Fundus   Right-Fundus  \\\n",
       "0             69      Female    0_left.jpg    0_right.jpg   \n",
       "86            55      Female  103_left.jpg  103_right.jpg   \n",
       "100           59        Male  119_left.jpg  119_right.jpg   \n",
       "218           60      Female  254_left.jpg  254_right.jpg   \n",
       "256           69      Female  294_left.jpg  294_right.jpg   \n",
       "\n",
       "    Left-Diagnostic Keywords    Right-Diagnostic Keywords  \n",
       "0                   cataract                normal fundus  \n",
       "86                  cataract                normal fundus  \n",
       "100                 cataract                       drusen  \n",
       "218                 cataract  macular epiretinal membrane  \n",
       "256                 cataract                normal fundus  "
      ]
     },
     "execution_count": 14,
     "metadata": {},
     "output_type": "execute_result"
    }
   ],
   "source": [
    "df_data2[df_data2['Left-Diagnostic Keywords'].str.match('cataract')].head()\n"
   ]
  },
  {
   "cell_type": "code",
   "execution_count": 15,
   "id": "ea395592-5c43-4fd8-9e97-2e4bb197214c",
   "metadata": {},
   "outputs": [
    {
     "name": "stdout",
     "output_type": "stream",
     "text": [
      "294\n"
     ]
    }
   ],
   "source": [
    "df_left_cat = df_data2[df_data2['Left-Diagnostic Keywords'].str.match('cataract')]\n",
    "print(len(df_left_cat))"
   ]
  },
  {
   "cell_type": "code",
   "execution_count": 16,
   "id": "64919b37-81b1-4d1f-b069-1b3e1897d5e7",
   "metadata": {},
   "outputs": [
    {
     "data": {
      "text/html": [
       "<div>\n",
       "<style scoped>\n",
       "    .dataframe tbody tr th:only-of-type {\n",
       "        vertical-align: middle;\n",
       "    }\n",
       "\n",
       "    .dataframe tbody tr th {\n",
       "        vertical-align: top;\n",
       "    }\n",
       "\n",
       "    .dataframe thead th {\n",
       "        text-align: right;\n",
       "    }\n",
       "</style>\n",
       "<table border=\"1\" class=\"dataframe\">\n",
       "  <thead>\n",
       "    <tr style=\"text-align: right;\">\n",
       "      <th></th>\n",
       "      <th>ID</th>\n",
       "      <th>Patient Age</th>\n",
       "      <th>Patient Sex</th>\n",
       "      <th>Left-Fundus</th>\n",
       "      <th>Right-Fundus</th>\n",
       "      <th>Left-Diagnostic Keywords</th>\n",
       "      <th>Right-Diagnostic Keywords</th>\n",
       "      <th>N</th>\n",
       "      <th>D</th>\n",
       "      <th>G</th>\n",
       "      <th>C</th>\n",
       "      <th>A</th>\n",
       "      <th>H</th>\n",
       "      <th>M</th>\n",
       "      <th>O</th>\n",
       "      <th>filepath</th>\n",
       "      <th>labels</th>\n",
       "      <th>target</th>\n",
       "      <th>filename</th>\n",
       "    </tr>\n",
       "  </thead>\n",
       "  <tbody>\n",
       "    <tr>\n",
       "      <th>20</th>\n",
       "      <td>24</td>\n",
       "      <td>75</td>\n",
       "      <td>Female</td>\n",
       "      <td>24_left.jpg</td>\n",
       "      <td>24_right.jpg</td>\n",
       "      <td>normal fundus</td>\n",
       "      <td>cataract</td>\n",
       "      <td>0</td>\n",
       "      <td>0</td>\n",
       "      <td>0</td>\n",
       "      <td>1</td>\n",
       "      <td>0</td>\n",
       "      <td>0</td>\n",
       "      <td>0</td>\n",
       "      <td>0</td>\n",
       "      <td>../input/ocular-disease-recognition-odir5k/ODI...</td>\n",
       "      <td>['C']</td>\n",
       "      <td>[0, 0, 0, 1, 0, 0, 0, 0]</td>\n",
       "      <td>24_right.jpg</td>\n",
       "    </tr>\n",
       "    <tr>\n",
       "      <th>93</th>\n",
       "      <td>112</td>\n",
       "      <td>57</td>\n",
       "      <td>Female</td>\n",
       "      <td>112_left.jpg</td>\n",
       "      <td>112_right.jpg</td>\n",
       "      <td>normal fundus</td>\n",
       "      <td>cataract</td>\n",
       "      <td>0</td>\n",
       "      <td>0</td>\n",
       "      <td>0</td>\n",
       "      <td>1</td>\n",
       "      <td>0</td>\n",
       "      <td>0</td>\n",
       "      <td>0</td>\n",
       "      <td>0</td>\n",
       "      <td>../input/ocular-disease-recognition-odir5k/ODI...</td>\n",
       "      <td>['C']</td>\n",
       "      <td>[0, 0, 0, 1, 0, 0, 0, 0]</td>\n",
       "      <td>112_right.jpg</td>\n",
       "    </tr>\n",
       "    <tr>\n",
       "      <th>160</th>\n",
       "      <td>188</td>\n",
       "      <td>55</td>\n",
       "      <td>Female</td>\n",
       "      <td>188_left.jpg</td>\n",
       "      <td>188_right.jpg</td>\n",
       "      <td>laser spot，severe proliferative diabetic retin...</td>\n",
       "      <td>cataract</td>\n",
       "      <td>0</td>\n",
       "      <td>1</td>\n",
       "      <td>0</td>\n",
       "      <td>1</td>\n",
       "      <td>0</td>\n",
       "      <td>0</td>\n",
       "      <td>0</td>\n",
       "      <td>1</td>\n",
       "      <td>../input/ocular-disease-recognition-odir5k/ODI...</td>\n",
       "      <td>['C']</td>\n",
       "      <td>[0, 0, 0, 1, 0, 0, 0, 0]</td>\n",
       "      <td>188_right.jpg</td>\n",
       "    </tr>\n",
       "    <tr>\n",
       "      <th>186</th>\n",
       "      <td>218</td>\n",
       "      <td>36</td>\n",
       "      <td>Female</td>\n",
       "      <td>218_left.jpg</td>\n",
       "      <td>218_right.jpg</td>\n",
       "      <td>refractive media opacity</td>\n",
       "      <td>cataract</td>\n",
       "      <td>0</td>\n",
       "      <td>0</td>\n",
       "      <td>0</td>\n",
       "      <td>1</td>\n",
       "      <td>0</td>\n",
       "      <td>0</td>\n",
       "      <td>0</td>\n",
       "      <td>1</td>\n",
       "      <td>../input/ocular-disease-recognition-odir5k/ODI...</td>\n",
       "      <td>['C']</td>\n",
       "      <td>[0, 0, 0, 1, 0, 0, 0, 0]</td>\n",
       "      <td>218_right.jpg</td>\n",
       "    </tr>\n",
       "    <tr>\n",
       "      <th>309</th>\n",
       "      <td>354</td>\n",
       "      <td>65</td>\n",
       "      <td>Male</td>\n",
       "      <td>354_left.jpg</td>\n",
       "      <td>354_right.jpg</td>\n",
       "      <td>normal fundus</td>\n",
       "      <td>cataract</td>\n",
       "      <td>0</td>\n",
       "      <td>0</td>\n",
       "      <td>0</td>\n",
       "      <td>1</td>\n",
       "      <td>0</td>\n",
       "      <td>0</td>\n",
       "      <td>0</td>\n",
       "      <td>0</td>\n",
       "      <td>../input/ocular-disease-recognition-odir5k/ODI...</td>\n",
       "      <td>['C']</td>\n",
       "      <td>[0, 0, 0, 1, 0, 0, 0, 0]</td>\n",
       "      <td>354_right.jpg</td>\n",
       "    </tr>\n",
       "  </tbody>\n",
       "</table>\n",
       "</div>"
      ],
      "text/plain": [
       "      ID  Patient Age Patient Sex   Left-Fundus   Right-Fundus  \\\n",
       "20    24           75      Female   24_left.jpg   24_right.jpg   \n",
       "93   112           57      Female  112_left.jpg  112_right.jpg   \n",
       "160  188           55      Female  188_left.jpg  188_right.jpg   \n",
       "186  218           36      Female  218_left.jpg  218_right.jpg   \n",
       "309  354           65        Male  354_left.jpg  354_right.jpg   \n",
       "\n",
       "                              Left-Diagnostic Keywords  \\\n",
       "20                                       normal fundus   \n",
       "93                                       normal fundus   \n",
       "160  laser spot，severe proliferative diabetic retin...   \n",
       "186                           refractive media opacity   \n",
       "309                                      normal fundus   \n",
       "\n",
       "    Right-Diagnostic Keywords  N  D  G  C  A  H  M  O  \\\n",
       "20                   cataract  0  0  0  1  0  0  0  0   \n",
       "93                   cataract  0  0  0  1  0  0  0  0   \n",
       "160                  cataract  0  1  0  1  0  0  0  1   \n",
       "186                  cataract  0  0  0  1  0  0  0  1   \n",
       "309                  cataract  0  0  0  1  0  0  0  0   \n",
       "\n",
       "                                              filepath labels  \\\n",
       "20   ../input/ocular-disease-recognition-odir5k/ODI...  ['C']   \n",
       "93   ../input/ocular-disease-recognition-odir5k/ODI...  ['C']   \n",
       "160  ../input/ocular-disease-recognition-odir5k/ODI...  ['C']   \n",
       "186  ../input/ocular-disease-recognition-odir5k/ODI...  ['C']   \n",
       "309  ../input/ocular-disease-recognition-odir5k/ODI...  ['C']   \n",
       "\n",
       "                       target       filename  \n",
       "20   [0, 0, 0, 1, 0, 0, 0, 0]   24_right.jpg  \n",
       "93   [0, 0, 0, 1, 0, 0, 0, 0]  112_right.jpg  \n",
       "160  [0, 0, 0, 1, 0, 0, 0, 0]  188_right.jpg  \n",
       "186  [0, 0, 0, 1, 0, 0, 0, 0]  218_right.jpg  \n",
       "309  [0, 0, 0, 1, 0, 0, 0, 0]  354_right.jpg  "
      ]
     },
     "execution_count": 16,
     "metadata": {},
     "output_type": "execute_result"
    }
   ],
   "source": [
    "df_data[df_data['Right-Diagnostic Keywords'].str.match('cataract')].head()\n"
   ]
  },
  {
   "cell_type": "code",
   "execution_count": 17,
   "id": "4ebff19d-5b5d-4f6c-b27a-d8fb7fd45ce8",
   "metadata": {},
   "outputs": [
    {
     "name": "stdout",
     "output_type": "stream",
     "text": [
      "278\n"
     ]
    }
   ],
   "source": [
    "df_rt_cat = df_data2[df_data2['Right-Diagnostic Keywords'].str.match('cataract')]\n",
    "print(len(df_rt_cat))"
   ]
  },
  {
   "cell_type": "code",
   "execution_count": 18,
   "id": "702e2842-f942-45a0-b899-210fb1648531",
   "metadata": {},
   "outputs": [
    {
     "data": {
      "text/plain": [
       "0      0_left.jpg\n",
       "1    103_left.jpg\n",
       "2    119_left.jpg\n",
       "3    254_left.jpg\n",
       "4    294_left.jpg\n",
       "dtype: object"
      ]
     },
     "execution_count": 18,
     "metadata": {},
     "output_type": "execute_result"
    }
   ],
   "source": [
    "import pandas as pd\n",
    "\n",
    "df_cat_filenames = pd.concat([df_left_cat['Left-Fundus'], df_rt_cat['Right-Fundus']], ignore_index=True)\n",
    "df_cat_filenames.head()\n"
   ]
  },
  {
   "cell_type": "code",
   "execution_count": 19,
   "id": "e336ee29-dc82-4be8-9129-94f813c93c54",
   "metadata": {},
   "outputs": [
    {
     "data": {
      "text/plain": [
       "567    2243_right.jpg\n",
       "568    2246_right.jpg\n",
       "569    2247_right.jpg\n",
       "570    2248_right.jpg\n",
       "571    2282_right.jpg\n",
       "dtype: object"
      ]
     },
     "execution_count": 19,
     "metadata": {},
     "output_type": "execute_result"
    }
   ],
   "source": [
    "df_cat_filenames.tail()\n"
   ]
  },
  {
   "cell_type": "code",
   "execution_count": null,
   "id": "f0de997d-4326-4b5f-9fef-552fd2624a14",
   "metadata": {},
   "outputs": [],
   "source": [
    "len(df_cat_filenames)\n"
   ]
  },
  {
   "cell_type": "code",
   "execution_count": 20,
   "id": "9c509626-3cf9-4d6b-88bf-9e08193ae4f1",
   "metadata": {},
   "outputs": [
    {
     "ename": "TypeError",
     "evalue": "Image data of dtype object cannot be converted to float",
     "output_type": "error",
     "traceback": [
      "\u001b[1;31m---------------------------------------------------------------------------\u001b[0m",
      "\u001b[1;31mTypeError\u001b[0m                                 Traceback (most recent call last)",
      "Cell \u001b[1;32mIn[20], line 3\u001b[0m\n\u001b[0;32m      1\u001b[0m img \u001b[38;5;241m=\u001b[39m df_cat_filenames[\u001b[38;5;241m342\u001b[39m]\n\u001b[0;32m      2\u001b[0m image \u001b[38;5;241m=\u001b[39m cv2\u001b[38;5;241m.\u001b[39mimread(os\u001b[38;5;241m.\u001b[39mpath\u001b[38;5;241m.\u001b[39mjoin(img_dir, img))\n\u001b[1;32m----> 3\u001b[0m \u001b[43mplt\u001b[49m\u001b[38;5;241;43m.\u001b[39;49m\u001b[43mimshow\u001b[49m\u001b[43m(\u001b[49m\u001b[43mimage\u001b[49m\u001b[43m)\u001b[49m\n\u001b[0;32m      4\u001b[0m \u001b[38;5;28mprint\u001b[39m(image\u001b[38;5;241m.\u001b[39mshape)\n\u001b[0;32m      5\u001b[0m \u001b[38;5;28mprint\u001b[39m(img)\n",
      "File \u001b[1;32m~\\AppData\\Local\\Programs\\Python\\Python312\\Lib\\site-packages\\matplotlib\\pyplot.py:3562\u001b[0m, in \u001b[0;36mimshow\u001b[1;34m(X, cmap, norm, aspect, interpolation, alpha, vmin, vmax, origin, extent, interpolation_stage, filternorm, filterrad, resample, url, data, **kwargs)\u001b[0m\n\u001b[0;32m   3541\u001b[0m \u001b[38;5;129m@_copy_docstring_and_deprecators\u001b[39m(Axes\u001b[38;5;241m.\u001b[39mimshow)\n\u001b[0;32m   3542\u001b[0m \u001b[38;5;28;01mdef\u001b[39;00m \u001b[38;5;21mimshow\u001b[39m(\n\u001b[0;32m   3543\u001b[0m     X: ArrayLike \u001b[38;5;241m|\u001b[39m PIL\u001b[38;5;241m.\u001b[39mImage\u001b[38;5;241m.\u001b[39mImage,\n\u001b[1;32m   (...)\u001b[0m\n\u001b[0;32m   3560\u001b[0m     \u001b[38;5;241m*\u001b[39m\u001b[38;5;241m*\u001b[39mkwargs,\n\u001b[0;32m   3561\u001b[0m ) \u001b[38;5;241m-\u001b[39m\u001b[38;5;241m>\u001b[39m AxesImage:\n\u001b[1;32m-> 3562\u001b[0m     __ret \u001b[38;5;241m=\u001b[39m \u001b[43mgca\u001b[49m\u001b[43m(\u001b[49m\u001b[43m)\u001b[49m\u001b[38;5;241;43m.\u001b[39;49m\u001b[43mimshow\u001b[49m\u001b[43m(\u001b[49m\n\u001b[0;32m   3563\u001b[0m \u001b[43m        \u001b[49m\u001b[43mX\u001b[49m\u001b[43m,\u001b[49m\n\u001b[0;32m   3564\u001b[0m \u001b[43m        \u001b[49m\u001b[43mcmap\u001b[49m\u001b[38;5;241;43m=\u001b[39;49m\u001b[43mcmap\u001b[49m\u001b[43m,\u001b[49m\n\u001b[0;32m   3565\u001b[0m \u001b[43m        \u001b[49m\u001b[43mnorm\u001b[49m\u001b[38;5;241;43m=\u001b[39;49m\u001b[43mnorm\u001b[49m\u001b[43m,\u001b[49m\n\u001b[0;32m   3566\u001b[0m \u001b[43m        \u001b[49m\u001b[43maspect\u001b[49m\u001b[38;5;241;43m=\u001b[39;49m\u001b[43maspect\u001b[49m\u001b[43m,\u001b[49m\n\u001b[0;32m   3567\u001b[0m \u001b[43m        \u001b[49m\u001b[43minterpolation\u001b[49m\u001b[38;5;241;43m=\u001b[39;49m\u001b[43minterpolation\u001b[49m\u001b[43m,\u001b[49m\n\u001b[0;32m   3568\u001b[0m \u001b[43m        \u001b[49m\u001b[43malpha\u001b[49m\u001b[38;5;241;43m=\u001b[39;49m\u001b[43malpha\u001b[49m\u001b[43m,\u001b[49m\n\u001b[0;32m   3569\u001b[0m \u001b[43m        \u001b[49m\u001b[43mvmin\u001b[49m\u001b[38;5;241;43m=\u001b[39;49m\u001b[43mvmin\u001b[49m\u001b[43m,\u001b[49m\n\u001b[0;32m   3570\u001b[0m \u001b[43m        \u001b[49m\u001b[43mvmax\u001b[49m\u001b[38;5;241;43m=\u001b[39;49m\u001b[43mvmax\u001b[49m\u001b[43m,\u001b[49m\n\u001b[0;32m   3571\u001b[0m \u001b[43m        \u001b[49m\u001b[43morigin\u001b[49m\u001b[38;5;241;43m=\u001b[39;49m\u001b[43morigin\u001b[49m\u001b[43m,\u001b[49m\n\u001b[0;32m   3572\u001b[0m \u001b[43m        \u001b[49m\u001b[43mextent\u001b[49m\u001b[38;5;241;43m=\u001b[39;49m\u001b[43mextent\u001b[49m\u001b[43m,\u001b[49m\n\u001b[0;32m   3573\u001b[0m \u001b[43m        \u001b[49m\u001b[43minterpolation_stage\u001b[49m\u001b[38;5;241;43m=\u001b[39;49m\u001b[43minterpolation_stage\u001b[49m\u001b[43m,\u001b[49m\n\u001b[0;32m   3574\u001b[0m \u001b[43m        \u001b[49m\u001b[43mfilternorm\u001b[49m\u001b[38;5;241;43m=\u001b[39;49m\u001b[43mfilternorm\u001b[49m\u001b[43m,\u001b[49m\n\u001b[0;32m   3575\u001b[0m \u001b[43m        \u001b[49m\u001b[43mfilterrad\u001b[49m\u001b[38;5;241;43m=\u001b[39;49m\u001b[43mfilterrad\u001b[49m\u001b[43m,\u001b[49m\n\u001b[0;32m   3576\u001b[0m \u001b[43m        \u001b[49m\u001b[43mresample\u001b[49m\u001b[38;5;241;43m=\u001b[39;49m\u001b[43mresample\u001b[49m\u001b[43m,\u001b[49m\n\u001b[0;32m   3577\u001b[0m \u001b[43m        \u001b[49m\u001b[43murl\u001b[49m\u001b[38;5;241;43m=\u001b[39;49m\u001b[43murl\u001b[49m\u001b[43m,\u001b[49m\n\u001b[0;32m   3578\u001b[0m \u001b[43m        \u001b[49m\u001b[38;5;241;43m*\u001b[39;49m\u001b[38;5;241;43m*\u001b[39;49m\u001b[43m(\u001b[49m\u001b[43m{\u001b[49m\u001b[38;5;124;43m\"\u001b[39;49m\u001b[38;5;124;43mdata\u001b[39;49m\u001b[38;5;124;43m\"\u001b[39;49m\u001b[43m:\u001b[49m\u001b[43m \u001b[49m\u001b[43mdata\u001b[49m\u001b[43m}\u001b[49m\u001b[43m \u001b[49m\u001b[38;5;28;43;01mif\u001b[39;49;00m\u001b[43m \u001b[49m\u001b[43mdata\u001b[49m\u001b[43m \u001b[49m\u001b[38;5;129;43;01mis\u001b[39;49;00m\u001b[43m \u001b[49m\u001b[38;5;129;43;01mnot\u001b[39;49;00m\u001b[43m \u001b[49m\u001b[38;5;28;43;01mNone\u001b[39;49;00m\u001b[43m \u001b[49m\u001b[38;5;28;43;01melse\u001b[39;49;00m\u001b[43m \u001b[49m\u001b[43m{\u001b[49m\u001b[43m}\u001b[49m\u001b[43m)\u001b[49m\u001b[43m,\u001b[49m\n\u001b[0;32m   3579\u001b[0m \u001b[43m        \u001b[49m\u001b[38;5;241;43m*\u001b[39;49m\u001b[38;5;241;43m*\u001b[39;49m\u001b[43mkwargs\u001b[49m\u001b[43m,\u001b[49m\n\u001b[0;32m   3580\u001b[0m \u001b[43m    \u001b[49m\u001b[43m)\u001b[49m\n\u001b[0;32m   3581\u001b[0m     sci(__ret)\n\u001b[0;32m   3582\u001b[0m     \u001b[38;5;28;01mreturn\u001b[39;00m __ret\n",
      "File \u001b[1;32m~\\AppData\\Local\\Programs\\Python\\Python312\\Lib\\site-packages\\matplotlib\\__init__.py:1473\u001b[0m, in \u001b[0;36m_preprocess_data.<locals>.inner\u001b[1;34m(ax, data, *args, **kwargs)\u001b[0m\n\u001b[0;32m   1470\u001b[0m \u001b[38;5;129m@functools\u001b[39m\u001b[38;5;241m.\u001b[39mwraps(func)\n\u001b[0;32m   1471\u001b[0m \u001b[38;5;28;01mdef\u001b[39;00m \u001b[38;5;21minner\u001b[39m(ax, \u001b[38;5;241m*\u001b[39margs, data\u001b[38;5;241m=\u001b[39m\u001b[38;5;28;01mNone\u001b[39;00m, \u001b[38;5;241m*\u001b[39m\u001b[38;5;241m*\u001b[39mkwargs):\n\u001b[0;32m   1472\u001b[0m     \u001b[38;5;28;01mif\u001b[39;00m data \u001b[38;5;129;01mis\u001b[39;00m \u001b[38;5;28;01mNone\u001b[39;00m:\n\u001b[1;32m-> 1473\u001b[0m         \u001b[38;5;28;01mreturn\u001b[39;00m \u001b[43mfunc\u001b[49m\u001b[43m(\u001b[49m\n\u001b[0;32m   1474\u001b[0m \u001b[43m            \u001b[49m\u001b[43max\u001b[49m\u001b[43m,\u001b[49m\n\u001b[0;32m   1475\u001b[0m \u001b[43m            \u001b[49m\u001b[38;5;241;43m*\u001b[39;49m\u001b[38;5;28;43mmap\u001b[39;49m\u001b[43m(\u001b[49m\u001b[43msanitize_sequence\u001b[49m\u001b[43m,\u001b[49m\u001b[43m \u001b[49m\u001b[43margs\u001b[49m\u001b[43m)\u001b[49m\u001b[43m,\u001b[49m\n\u001b[0;32m   1476\u001b[0m \u001b[43m            \u001b[49m\u001b[38;5;241;43m*\u001b[39;49m\u001b[38;5;241;43m*\u001b[39;49m\u001b[43m{\u001b[49m\u001b[43mk\u001b[49m\u001b[43m:\u001b[49m\u001b[43m \u001b[49m\u001b[43msanitize_sequence\u001b[49m\u001b[43m(\u001b[49m\u001b[43mv\u001b[49m\u001b[43m)\u001b[49m\u001b[43m \u001b[49m\u001b[38;5;28;43;01mfor\u001b[39;49;00m\u001b[43m \u001b[49m\u001b[43mk\u001b[49m\u001b[43m,\u001b[49m\u001b[43m \u001b[49m\u001b[43mv\u001b[49m\u001b[43m \u001b[49m\u001b[38;5;129;43;01min\u001b[39;49;00m\u001b[43m \u001b[49m\u001b[43mkwargs\u001b[49m\u001b[38;5;241;43m.\u001b[39;49m\u001b[43mitems\u001b[49m\u001b[43m(\u001b[49m\u001b[43m)\u001b[49m\u001b[43m}\u001b[49m\u001b[43m)\u001b[49m\n\u001b[0;32m   1478\u001b[0m     bound \u001b[38;5;241m=\u001b[39m new_sig\u001b[38;5;241m.\u001b[39mbind(ax, \u001b[38;5;241m*\u001b[39margs, \u001b[38;5;241m*\u001b[39m\u001b[38;5;241m*\u001b[39mkwargs)\n\u001b[0;32m   1479\u001b[0m     auto_label \u001b[38;5;241m=\u001b[39m (bound\u001b[38;5;241m.\u001b[39marguments\u001b[38;5;241m.\u001b[39mget(label_namer)\n\u001b[0;32m   1480\u001b[0m                   \u001b[38;5;129;01mor\u001b[39;00m bound\u001b[38;5;241m.\u001b[39mkwargs\u001b[38;5;241m.\u001b[39mget(label_namer))\n",
      "File \u001b[1;32m~\\AppData\\Local\\Programs\\Python\\Python312\\Lib\\site-packages\\matplotlib\\axes\\_axes.py:5895\u001b[0m, in \u001b[0;36mAxes.imshow\u001b[1;34m(self, X, cmap, norm, aspect, interpolation, alpha, vmin, vmax, origin, extent, interpolation_stage, filternorm, filterrad, resample, url, **kwargs)\u001b[0m\n\u001b[0;32m   5892\u001b[0m \u001b[38;5;28;01mif\u001b[39;00m aspect \u001b[38;5;129;01mis\u001b[39;00m \u001b[38;5;129;01mnot\u001b[39;00m \u001b[38;5;28;01mNone\u001b[39;00m:\n\u001b[0;32m   5893\u001b[0m     \u001b[38;5;28mself\u001b[39m\u001b[38;5;241m.\u001b[39mset_aspect(aspect)\n\u001b[1;32m-> 5895\u001b[0m \u001b[43mim\u001b[49m\u001b[38;5;241;43m.\u001b[39;49m\u001b[43mset_data\u001b[49m\u001b[43m(\u001b[49m\u001b[43mX\u001b[49m\u001b[43m)\u001b[49m\n\u001b[0;32m   5896\u001b[0m im\u001b[38;5;241m.\u001b[39mset_alpha(alpha)\n\u001b[0;32m   5897\u001b[0m \u001b[38;5;28;01mif\u001b[39;00m im\u001b[38;5;241m.\u001b[39mget_clip_path() \u001b[38;5;129;01mis\u001b[39;00m \u001b[38;5;28;01mNone\u001b[39;00m:\n\u001b[0;32m   5898\u001b[0m     \u001b[38;5;66;03m# image does not already have clipping set, clip to Axes patch\u001b[39;00m\n",
      "File \u001b[1;32m~\\AppData\\Local\\Programs\\Python\\Python312\\Lib\\site-packages\\matplotlib\\image.py:729\u001b[0m, in \u001b[0;36m_ImageBase.set_data\u001b[1;34m(self, A)\u001b[0m\n\u001b[0;32m    727\u001b[0m \u001b[38;5;28;01mif\u001b[39;00m \u001b[38;5;28misinstance\u001b[39m(A, PIL\u001b[38;5;241m.\u001b[39mImage\u001b[38;5;241m.\u001b[39mImage):\n\u001b[0;32m    728\u001b[0m     A \u001b[38;5;241m=\u001b[39m pil_to_array(A)  \u001b[38;5;66;03m# Needed e.g. to apply png palette.\u001b[39;00m\n\u001b[1;32m--> 729\u001b[0m \u001b[38;5;28mself\u001b[39m\u001b[38;5;241m.\u001b[39m_A \u001b[38;5;241m=\u001b[39m \u001b[38;5;28;43mself\u001b[39;49m\u001b[38;5;241;43m.\u001b[39;49m\u001b[43m_normalize_image_array\u001b[49m\u001b[43m(\u001b[49m\u001b[43mA\u001b[49m\u001b[43m)\u001b[49m\n\u001b[0;32m    730\u001b[0m \u001b[38;5;28mself\u001b[39m\u001b[38;5;241m.\u001b[39m_imcache \u001b[38;5;241m=\u001b[39m \u001b[38;5;28;01mNone\u001b[39;00m\n\u001b[0;32m    731\u001b[0m \u001b[38;5;28mself\u001b[39m\u001b[38;5;241m.\u001b[39mstale \u001b[38;5;241m=\u001b[39m \u001b[38;5;28;01mTrue\u001b[39;00m\n",
      "File \u001b[1;32m~\\AppData\\Local\\Programs\\Python\\Python312\\Lib\\site-packages\\matplotlib\\image.py:692\u001b[0m, in \u001b[0;36m_ImageBase._normalize_image_array\u001b[1;34m(A)\u001b[0m\n\u001b[0;32m    690\u001b[0m A \u001b[38;5;241m=\u001b[39m cbook\u001b[38;5;241m.\u001b[39msafe_masked_invalid(A, copy\u001b[38;5;241m=\u001b[39m\u001b[38;5;28;01mTrue\u001b[39;00m)\n\u001b[0;32m    691\u001b[0m \u001b[38;5;28;01mif\u001b[39;00m A\u001b[38;5;241m.\u001b[39mdtype \u001b[38;5;241m!=\u001b[39m np\u001b[38;5;241m.\u001b[39muint8 \u001b[38;5;129;01mand\u001b[39;00m \u001b[38;5;129;01mnot\u001b[39;00m np\u001b[38;5;241m.\u001b[39mcan_cast(A\u001b[38;5;241m.\u001b[39mdtype, \u001b[38;5;28mfloat\u001b[39m, \u001b[38;5;124m\"\u001b[39m\u001b[38;5;124msame_kind\u001b[39m\u001b[38;5;124m\"\u001b[39m):\n\u001b[1;32m--> 692\u001b[0m     \u001b[38;5;28;01mraise\u001b[39;00m \u001b[38;5;167;01mTypeError\u001b[39;00m(\u001b[38;5;124mf\u001b[39m\u001b[38;5;124m\"\u001b[39m\u001b[38;5;124mImage data of dtype \u001b[39m\u001b[38;5;132;01m{\u001b[39;00mA\u001b[38;5;241m.\u001b[39mdtype\u001b[38;5;132;01m}\u001b[39;00m\u001b[38;5;124m cannot be \u001b[39m\u001b[38;5;124m\"\u001b[39m\n\u001b[0;32m    693\u001b[0m                     \u001b[38;5;124mf\u001b[39m\u001b[38;5;124m\"\u001b[39m\u001b[38;5;124mconverted to float\u001b[39m\u001b[38;5;124m\"\u001b[39m)\n\u001b[0;32m    694\u001b[0m \u001b[38;5;28;01mif\u001b[39;00m A\u001b[38;5;241m.\u001b[39mndim \u001b[38;5;241m==\u001b[39m \u001b[38;5;241m3\u001b[39m \u001b[38;5;129;01mand\u001b[39;00m A\u001b[38;5;241m.\u001b[39mshape[\u001b[38;5;241m-\u001b[39m\u001b[38;5;241m1\u001b[39m] \u001b[38;5;241m==\u001b[39m \u001b[38;5;241m1\u001b[39m:\n\u001b[0;32m    695\u001b[0m     A \u001b[38;5;241m=\u001b[39m A\u001b[38;5;241m.\u001b[39msqueeze(\u001b[38;5;241m-\u001b[39m\u001b[38;5;241m1\u001b[39m)  \u001b[38;5;66;03m# If just (M, N, 1), assume scalar and apply colormap.\u001b[39;00m\n",
      "\u001b[1;31mTypeError\u001b[0m: Image data of dtype object cannot be converted to float"
     ]
    },
    {
     "data": {
      "image/png": "[encoded data removed]",
      "text/plain": [
       "<Figure size 640x480 with 1 Axes>"
      ]
     },
     "metadata": {},
     "output_type": "display_data"
    }
   ],
   "source": [
    "img = df_cat_filenames[342]\n",
    "image = cv2.imread(os.path.join(img_dir, img))\n",
    "plt.imshow(image)\n",
    "print(image.shape)\n",
    "print(img)"
   ]
  },
  {
   "cell_type": "code",
   "execution_count": 21,
   "id": "23aa6544-4d5e-4303-899e-02c155987774",
   "metadata": {
    "scrolled": true
   },
   "outputs": [
    {
     "ename": "error",
     "evalue": "OpenCV(4.10.0) D:\\a\\opencv-python\\opencv-python\\opencv\\modules\\imgproc\\src\\color.cpp:196: error: (-215:Assertion failed) !_src.empty() in function 'cv::cvtColor'\n",
     "output_type": "error",
     "traceback": [
      "\u001b[1;31m---------------------------------------------------------------------------\u001b[0m",
      "\u001b[1;31merror\u001b[0m                                     Traceback (most recent call last)",
      "Cell \u001b[1;32mIn[21], line 7\u001b[0m\n\u001b[0;32m      4\u001b[0m image \u001b[38;5;241m=\u001b[39m cv2\u001b[38;5;241m.\u001b[39mimread(os\u001b[38;5;241m.\u001b[39mpath\u001b[38;5;241m.\u001b[39mjoin(img_dir, img))\n\u001b[0;32m      6\u001b[0m \u001b[38;5;66;03m## convert image to RGB\u001b[39;00m\n\u001b[1;32m----> 7\u001b[0m image_rgb \u001b[38;5;241m=\u001b[39m \u001b[43mcv2\u001b[49m\u001b[38;5;241;43m.\u001b[39;49m\u001b[43mcvtColor\u001b[49m\u001b[43m(\u001b[49m\u001b[43mimage\u001b[49m\u001b[43m,\u001b[49m\u001b[43m \u001b[49m\u001b[43mcv2\u001b[49m\u001b[38;5;241;43m.\u001b[39;49m\u001b[43mCOLOR_BGR2RGB\u001b[49m\u001b[43m)\u001b[49m\n\u001b[0;32m      9\u001b[0m \u001b[38;5;66;03m## subplot variables - (# of rows, # of columns, iterate through locations on grid)\u001b[39;00m\n\u001b[0;32m     10\u001b[0m plt\u001b[38;5;241m.\u001b[39msubplot(\u001b[38;5;241m3\u001b[39m,\u001b[38;5;241m3\u001b[39m,i\u001b[38;5;241m+\u001b[39m\u001b[38;5;241m1\u001b[39m)\n",
      "\u001b[1;31merror\u001b[0m: OpenCV(4.10.0) D:\\a\\opencv-python\\opencv-python\\opencv\\modules\\imgproc\\src\\color.cpp:196: error: (-215:Assertion failed) !_src.empty() in function 'cv::cvtColor'\n"
     ]
    },
    {
     "data": {
      "text/plain": [
       "<Figure size 800x800 with 0 Axes>"
      ]
     },
     "metadata": {},
     "output_type": "display_data"
    }
   ],
   "source": [
    "plt.figure(figsize=(8,8))\n",
    "for i in range(9):\n",
    "    img = df_cat_filenames[i]\n",
    "    image = cv2.imread(os.path.join(img_dir, img))\n",
    "\n",
    "    ## convert image to RGB\n",
    "    image_rgb = cv2.cvtColor(image, cv2.COLOR_BGR2RGB)\n",
    "\n",
    "    ## subplot variables - (# of rows, # of columns, iterate through locations on grid)\n",
    "    plt.subplot(3,3,i+1)\n",
    "    plt.imshow(image_rgb)\n",
    "    \n",
    "    ## label with filename and diagnosis\n",
    "    plt.xlabel('Filename: {}\\n''Cataract'.format(df_cat_filenames[i]))\n",
    "\n",
    "plt.tight_layout()"
   ]
  },
  {
   "cell_type": "code",
   "execution_count": null,
   "id": "991c081d-e36d-4b94-8d5b-535c2bf4c229",
   "metadata": {
    "scrolled": true
   },
   "outputs": [],
   "source": [
    "df_data[df_data == 1].sum(axis=0)\n"
   ]
  },
  {
   "cell_type": "code",
   "execution_count": null,
   "id": "3d368eba-2d6d-4269-886d-a06edaeb9102",
   "metadata": {
    "scrolled": true
   },
   "outputs": [],
   "source": [
    "df_data2.head()\n"
   ]
  },
  {
   "cell_type": "code",
   "execution_count": null,
   "id": "1daa406e-bd5b-4339-afab-c6ea69ecd08d",
   "metadata": {},
   "outputs": [],
   "source": [
    "df_left_norm = df_data2[df_data2['Left-Diagnostic Keywords'].str.match('normal')]\n",
    "print(len(df_left_norm))"
   ]
  },
  {
   "cell_type": "code",
   "execution_count": null,
   "id": "8950cc9c-3221-4792-8333-495f54399201",
   "metadata": {},
   "outputs": [],
   "source": [
    "df_rt_norm = df_data2[df_data2['Right-Diagnostic Keywords'].str.match('normal')]\n",
    "print(len(df_rt_norm))"
   ]
  },
  {
   "cell_type": "code",
   "execution_count": null,
   "id": "6c3c8f48-6777-408e-a1df-f80f812df5ba",
   "metadata": {
    "scrolled": true
   },
   "outputs": [],
   "source": [
    "import pandas as pd\n",
    "\n",
    "df_norm_filenames = pd.concat([df_left_norm['Left-Fundus'], df_rt_norm['Right-Fundus']], ignore_index=True)\n",
    "df_norm_filenames\n"
   ]
  },
  {
   "cell_type": "code",
   "execution_count": null,
   "id": "87fdb68c-2b55-4446-91be-6fba5004c0cf",
   "metadata": {
    "scrolled": true
   },
   "outputs": [],
   "source": [
    "df_norm_filenames_random = df_norm_filenames.sample(n = 572)\n",
    "df_norm_filenames_random.head()"
   ]
  },
  {
   "cell_type": "code",
   "execution_count": null,
   "id": "eb94dd45-60be-4fbf-8b96-e085b3a4fab2",
   "metadata": {
    "scrolled": true
   },
   "outputs": [],
   "source": [
    "## we will reset the index as well\n",
    "df_norm_filenames_random = df_norm_filenames_random.reset_index(drop=True)\n",
    "df_norm_filenames_random"
   ]
  },
  {
   "cell_type": "code",
   "execution_count": null,
   "id": "495b2204-d4e4-4a22-98f8-aff8f4a7a3cc",
   "metadata": {
    "scrolled": true
   },
   "outputs": [],
   "source": [
    "plt.figure(figsize=(8,8))\n",
    "for i in range(9):\n",
    "    img = df_norm_filenames_random[i]\n",
    "    image = cv2.imread(os.path.join(img_dir, img))\n",
    "\n",
    "    ## convert image to RGB\n",
    "    image_rgb = cv2.cvtColor(image, cv2.COLOR_BGR2RGB)\n",
    "\n",
    "    ## subplot variables - (# of rows, # of columns, iterate through locations on grid)\n",
    "    plt.subplot(3,3,i+1)\n",
    "    plt.imshow(image_rgb)\n",
    "    \n",
    "    ## label with filename and diagnosis\n",
    "    plt.xlabel('Filename: {}\\n''Normal'.format(df_norm_filenames_random[i]))\n",
    "\n",
    "plt.tight_layout() "
   ]
  },
  {
   "cell_type": "code",
   "execution_count": null,
   "id": "6119fac2-bc9a-4c7f-84c7-b865ecfee98f",
   "metadata": {},
   "outputs": [],
   "source": [
    "df_cat_filenames = pd.DataFrame(df_cat_filenames, columns = [\"filename\"])\n",
    "#df_cat_filenames.set_index(\"filename\", inplace = True)\n",
    "\n",
    "# add a new column of '1' to the dataframe\n",
    "df_cat_filenames[\"label\"] = \"cataract\"\n",
    "\n",
    "df_cat_filenames.head()"
   ]
  },
  {
   "cell_type": "code",
   "execution_count": null,
   "id": "c25ca63e-424a-46d9-b15e-fa32745e06a7",
   "metadata": {},
   "outputs": [],
   "source": [
    "df_norm_filenames_random = pd.DataFrame(df_norm_filenames_random, columns = [\"filename\"])\n",
    "#df_cat_filenames.set_index(\"filename\", inplace = True)\n",
    "\n",
    "# add a new column of '1' to the dataframe\n",
    "df_norm_filenames_random[\"label\"] = \"normal\"\n",
    "\n",
    "df_norm_filenames_random.head()"
   ]
  },
  {
   "cell_type": "code",
   "execution_count": null,
   "id": "5ba5e324-ba80-401f-9694-1f8a16b758b3",
   "metadata": {},
   "outputs": [],
   "source": [
    "import pandas as pd\n",
    "\n",
    "df_combined = pd.concat([df_cat_filenames, df_norm_filenames_random], ignore_index=True)\n",
    "df_combined\n"
   ]
  },
  {
   "cell_type": "code",
   "execution_count": null,
   "id": "a50d6888-91fe-48a2-9765-05a3d70dee07",
   "metadata": {},
   "outputs": [],
   "source": [
    "df_combined_random = df_combined.sample(frac=1).reset_index(drop=True)\n",
    "df_combined_random"
   ]
  },
  {
   "cell_type": "code",
   "execution_count": null,
   "id": "6bd220d0-54a6-4288-a3fa-7a72dfb63862",
   "metadata": {},
   "outputs": [],
   "source": [
    "df_train = df_combined_random.sample(frac=0.8,random_state=42)\n",
    "df_train.reset_index(drop=True)\n",
    "\n",
    "# exclude the 80% that was already chosen, the remaining 20% will go into testing\n",
    "df_test = df_combined_random.drop(df_train.index)\n",
    "df_test.reset_index(drop=True)\n",
    "\n",
    "print(len(df_combined_random))\n",
    "print(len(df_train))\n",
    "print(len(df_test))"
   ]
  },
  {
   "cell_type": "code",
   "execution_count": null,
   "id": "155d8b28-7b44-42fd-97b0-80545773cbe8",
   "metadata": {},
   "outputs": [],
   "source": [
    "train_datagen=tf.keras.preprocessing.image.ImageDataGenerator(\n",
    "            rescale=1./255.,\n",
    "            validation_split=0.20,\n",
    "            rotation_range=90,\n",
    "#            width_shift_range=0.2,\n",
    "#            height_shift_range=0.2,\n",
    "            horizontal_flip=True,\n",
    "            vertical_flip=True,\n",
    "            shear_range=0.2,\n",
    "            brightness_range=[0.3,1]    \n",
    "#            zoom_range=0.2\n",
    "            )\n",
    "\n",
    "## for testing we don't want to do too much augmentation, we'll just scale it.\n",
    "\n",
    "test_datagen=ImageDataGenerator(rescale=1./255.)"
   ]
  },
  {
   "cell_type": "code",
   "execution_count": null,
   "id": "aad2a357-9f0f-4ef1-8fa8-76b0264608cb",
   "metadata": {},
   "outputs": [],
   "source": [
    "df_train['label'] = df_train['label'].astype(str)\n",
    "df_test['label'] = df_test['label'].astype(str)"
   ]
  },
  {
   "cell_type": "code",
   "execution_count": null,
   "id": "5db56e63-038d-49c4-b0be-566bf8aae710",
   "metadata": {
    "scrolled": true
   },
   "outputs": [],
   "source": [
    "train_generator=train_datagen.flow_from_dataframe(\n",
    "dataframe=df_train,\n",
    "directory=img_dir,\n",
    "x_col=\"filename\",\n",
    "y_col=\"label\",\n",
    "subset=\"training\",\n",
    "batch_size=32,\n",
    "seed=42,\n",
    "shuffle=True,\n",
    "class_mode=\"categorical\",\n",
    "target_size=(img_size,img_size))\n",
    "\n",
    "## validation set is created from the training set, \n",
    "## we set it at 20% of the training data in the previous code\n",
    "\n",
    "valid_generator=train_datagen.flow_from_dataframe(\n",
    "dataframe=df_train,\n",
    "directory=img_dir,\n",
    "x_col=\"filename\",\n",
    "y_col=\"label\",\n",
    "subset=\"validation\",\n",
    "batch_size=32,\n",
    "seed=42,\n",
    "shuffle=True,\n",
    "class_mode=\"categorical\",\n",
    "    target_size=(img_size,img_size))\n",
    "\n",
    "\n",
    "\n",
    "test_generator=test_datagen.flow_from_dataframe(\n",
    "dataframe=df_test,\n",
    "directory=img_dir,\n",
    "x_col=\"filename\",\n",
    "y_col=\"label\",\n",
    "batch_size=32,\n",
    "#seed=42,\n",
    "shuffle=False,\n",
    "class_mode=\"categorical\",\n",
    "target_size=(img_size,img_size))"
   ]
  },
  {
   "cell_type": "code",
   "execution_count": null,
   "id": "d5fdec20-5822-4326-909f-5bf6bfe75bb5",
   "metadata": {},
   "outputs": [],
   "source": [
    "train_image_data, train_labels = next(train_generator)\n",
    "train_image_data.shape\n"
   ]
  },
  {
   "cell_type": "code",
   "execution_count": null,
   "id": "20417a9b-2754-418b-a927-db771047a5df",
   "metadata": {},
   "outputs": [],
   "source": [
    "train_labels[0]\n"
   ]
  },
  {
   "cell_type": "code",
   "execution_count": null,
   "id": "3c36895b-b959-4e37-8b4b-b7467f4dc490",
   "metadata": {},
   "outputs": [],
   "source": [
    "plt.imshow(train_image_data[0], interpolation='nearest')\n",
    "plt.show()"
   ]
  },
  {
   "cell_type": "code",
   "execution_count": null,
   "id": "a2332e72-24da-4f81-97bc-36386109cf68",
   "metadata": {},
   "outputs": [],
   "source": [
    "plt.figure(figsize=(8,8))\n",
    "\n",
    "for i in range(9):\n",
    "    plt.subplot(3, 3, i + 1) \n",
    "    plt.imshow(train_image_data[i], interpolation='nearest')\n",
    "    \n",
    "plt.show() "
   ]
  },
  {
   "cell_type": "code",
   "execution_count": null,
   "id": "cd5a0357-f09d-47f3-b4f3-a6bbd686311d",
   "metadata": {},
   "outputs": [],
   "source": [
    "vgg16 = keras.applications.vgg16.VGG16(input_shape=(224, 224, 3),\n",
    "                                       weights='imagenet',\n",
    "                                       include_top=False)\n",
    "\n",
    "# add new dense layers at the top\n",
    "x = keras.layers.Flatten()(vgg16.output)\n",
    "x = keras.layers.Dense(1024, activation='relu')(x)\n",
    "x = keras.layers.Dropout(0.5)(x)\n",
    "x = keras.layers.Dense(128, activation='relu')(x)\n",
    "\n",
    "## remember we are using 2 outputs only\n",
    "predictions = keras.layers.Dense(2, activation='softmax')(x)\n",
    "\n",
    "# define and compile model\n",
    "model = keras.Model(inputs=vgg16.inputs, outputs=predictions)\n",
    "for layer in vgg16.layers:\n",
    "    layer.trainable = False\n",
    "    \n",
    "model.compile(optimizer='adam',\n",
    "              loss='binary_crossentropy',\n",
    "              metrics=['accuracy'])"
   ]
  },
  {
   "cell_type": "code",
   "execution_count": null,
   "id": "dc9578b3-106f-46d1-bc5c-7e52c642b693",
   "metadata": {},
   "outputs": [],
   "source": [
    "checkpoint = ModelCheckpoint(\"vgg16_1.keras\", \n",
    "                             monitor='val_accuracy', \n",
    "                             verbose=1, \n",
    "                             save_best_only=True, \n",
    "                             save_weights_only=False, \n",
    "                             mode='auto', \n",
    "                             save_freq='epoch')\n",
    "early = EarlyStopping(monitor='val_accuracy', \n",
    "                      min_delta=0, \n",
    "                      patience=3, \n",
    "                      verbose=1, \n",
    "                      mode='auto')\n"
   ]
  },
  {
   "cell_type": "code",
   "execution_count": null,
   "id": "65473313-3cb2-462b-ab12-930eb40d55f8",
   "metadata": {},
   "outputs": [],
   "source": [
    "batch_size = 32\n",
    "n_spe = train_generator.samples // batch_size\n",
    "n_val_steps = valid_generator.samples // batch_size\n",
    "n_epochs = 30\n",
    "\n",
    "print(n_spe,n_val_steps)"
   ]
  },
  {
   "cell_type": "code",
   "execution_count": null,
   "id": "eb0f77b6-c037-4d0f-8b9e-ca24a3f107a5",
   "metadata": {},
   "outputs": [],
   "source": [
    "hist = model.fit(train_generator,\n",
    "                 steps_per_epoch=n_spe,\n",
    "                 validation_data=valid_generator,\n",
    "                 validation_steps=n_val_steps,\n",
    "                 epochs=n_epochs,\n",
    "                 shuffle=True,\n",
    "                 callbacks=[checkpoint, early])\n"
   ]
  },
  {
   "cell_type": "code",
   "execution_count": null,
   "id": "6fc03aad-99f6-46dd-8dac-10c91ffe62a8",
   "metadata": {},
   "outputs": [],
   "source": [
    "from tensorflow.keras.models import load_model\n",
    "\n",
    "# Load the model\n",
    "model = load_model('vgg16_1.keras')\n",
    "\n",
    "\n",
    "# Verify the model's architecture\n",
    "model.summary()\n"
   ]
  },
  {
   "cell_type": "code",
   "execution_count": null,
   "id": "e276cece-0d47-4de4-bf9f-1d6b84722344",
   "metadata": {},
   "outputs": [],
   "source": [
    "plt.plot(hist.history[\"accuracy\"])\n",
    "plt.plot(hist.history['val_accuracy'])\n",
    "plt.title(\"Model Accuracy\")\n",
    "plt.ylabel(\"Accuracy\")\n",
    "plt.xlabel(\"Epoch\")\n",
    "plt.legend([\"Accuracy\",\"Validation Accuracy\"])\n",
    "plt.show()\n",
    "\n",
    "plt.plot(hist.history['loss'])\n",
    "plt.plot(hist.history['val_loss'])\n",
    "plt.title(\"Model Loss\")\n",
    "plt.ylabel(\"Loss\")\n",
    "plt.xlabel(\"Epoch\")\n",
    "plt.legend([\"loss\",\"Validation Loss\"])\n",
    "plt.show()"
   ]
  },
  {
   "cell_type": "code",
   "execution_count": null,
   "id": "886d0229-a706-4b24-8036-89e039b4fbf6",
   "metadata": {},
   "outputs": [],
   "source": [
    "test_generator.reset()"
   ]
  },
  {
   "cell_type": "code",
   "execution_count": null,
   "id": "407ac6b4-994f-4a03-a4a9-190bfbdcf17b",
   "metadata": {},
   "outputs": [],
   "source": [
    "# Predict using the updated method\n",
    "pred = model.predict(test_generator, verbose=1, steps=test_generator.samples // batch_size)\n"
   ]
  },
  {
   "cell_type": "code",
   "execution_count": null,
   "id": "4160ec5e-ee1f-4351-8f41-cafa451ed2fd",
   "metadata": {},
   "outputs": [],
   "source": [
    "print(pred[0:10])"
   ]
  },
  {
   "cell_type": "code",
   "execution_count": null,
   "id": "0860ae4f-b200-4c55-8035-568ba2b87a9d",
   "metadata": {},
   "outputs": [],
   "source": [
    "import numpy as np\n",
    "\n",
    "# Assuming `pred` is your predictions array\n",
    "predicted_class_idx = np.argmax(pred, axis=1)\n",
    "\n",
    "# Print the first 10 predicted class indices\n",
    "print(predicted_class_idx[0:10])\n"
   ]
  },
  {
   "cell_type": "code",
   "execution_count": null,
   "id": "a7c27346-a104-4c0c-ac6f-7e977c73daab",
   "metadata": {},
   "outputs": [],
   "source": [
    "print(len(predicted_class_idx))"
   ]
  },
  {
   "cell_type": "code",
   "execution_count": null,
   "id": "c628bd4b-e1ac-4973-baad-9e58f45c51fb",
   "metadata": {},
   "outputs": [],
   "source": [
    "# Evaluate the model\n",
    "results = model.evaluate(test_generator, verbose=1)\n",
    "print(\"Test Loss, Test Accuracy:\", results)\n"
   ]
  },
  {
   "cell_type": "code",
   "execution_count": null,
   "id": "0e5dd407-cae4-4890-a06d-0440092c65e0",
   "metadata": {},
   "outputs": [],
   "source": [
    "valid_generator.class_indices.items()\n",
    "\n"
   ]
  },
  {
   "cell_type": "code",
   "execution_count": null,
   "id": "bc7e3d9f-31e2-4687-abeb-91ba00a0ab56",
   "metadata": {},
   "outputs": [],
   "source": [
    "valid_labels = dict((value,key) for key,value in valid_generator.class_indices.items())\n",
    "pred_labels = [valid_labels[key] for key in predicted_class_idx]"
   ]
  },
  {
   "cell_type": "code",
   "execution_count": null,
   "id": "ac55df00-0ab1-492f-9252-d031b8280ffb",
   "metadata": {},
   "outputs": [],
   "source": [
    "pred_labels[1:10]\n"
   ]
  },
  {
   "cell_type": "code",
   "execution_count": null,
   "id": "0d9a5a7f-79cc-45f2-9675-f8363e6b34a1",
   "metadata": {},
   "outputs": [],
   "source": [
    "# Ensure predictions are generated for all data\n",
    "pred = model.predict(test_generator, verbose=1)\n",
    "pred_labels = np.argmax(pred, axis=1)  # Get the predicted class labels\n",
    "\n",
    "# Check lengths\n",
    "print(f\"Number of filenames: {len(test_generator.filenames)}\")\n",
    "print(f\"Number of predictions: {len(pred_labels)}\")\n",
    "\n",
    "# Create the DataFrame if lengths match\n",
    "if len(test_generator.filenames) == len(pred_labels):\n",
    "    prediction_df = pd.DataFrame({'Filename': test_generator.filenames, 'Prediction': pred_labels})\n",
    "    print(prediction_df.head())\n",
    "else:\n",
    "    print(\"Error: Lengths of filenames and predictions do not match.\")\n"
   ]
  },
  {
   "cell_type": "code",
   "execution_count": null,
   "id": "d29c3d24-b387-4467-945f-35dfc7b8f1bd",
   "metadata": {},
   "outputs": [],
   "source": [
    "prediction_df.iloc[35]\n"
   ]
  },
  {
   "cell_type": "code",
   "execution_count": null,
   "id": "2add0a51-118e-4d2f-830a-2c27febee14f",
   "metadata": {},
   "outputs": [],
   "source": [
    "print(test_generator.filenames[35])\n",
    "print(test_generator.labels[35])"
   ]
  },
  {
   "cell_type": "code",
   "execution_count": null,
   "id": "d99117cc-4a76-4a48-a741-ef65faaba097",
   "metadata": {
    "scrolled": true
   },
   "outputs": [],
   "source": [
    "test_file_names=test_generator.filenames  # sequential list of name of test files of each sample\n",
    "test_labels=test_generator.labels # is a sequential list  of test labels for each image sample\n",
    "class_dict= test_generator.class_indices # a dictionary where key is the class name and value is the label for the class\n",
    "\n",
    "print (class_dict) # have a look at the dictionary\n",
    "\n",
    "new_dict={} \n",
    "\n",
    "for key in class_dict: # set key in new_dict to value in class_dict and value in new_dict to key in class_dict\n",
    "    value = class_dict[key]\n",
    "    new_dict[value] = key\n",
    "\n",
    "print('  RESULT  PREDICT      TRUE CLASS       FILENAME ' ) # adjust spacing based on your class names\n",
    "\n",
    "for i, p in enumerate(pred):\n",
    "    pred_index=np.argmax(p) # get the index that has the highest probability\n",
    "    pred_class=new_dict[pred_index]  # find the predicted class based on the index\n",
    "    true_class=new_dict[test_labels[i]] # use the test label to get the true class of the test file\n",
    "    file=test_file_names[i]\n",
    "    \n",
    "    if true_class == pred_class:\n",
    "        result = \"Correct\"\n",
    "    else:\n",
    "        result = \"Wrong  \"\n",
    "    \n",
    "    \n",
    "    print(f' {result}   {pred_class}    {true_class}      {file}')"
   ]
  },
  {
   "cell_type": "code",
   "execution_count": null,
   "id": "504b56d3-8df6-40a2-9325-d8614c8d97aa",
   "metadata": {},
   "outputs": [],
   "source": [
    "# Get the first batch of data\n",
    "x_test, y_test = test_generator[0]\n"
   ]
  },
  {
   "cell_type": "code",
   "execution_count": null,
   "id": "66e75486-7bc3-4b50-9e27-287fb9e88d8a",
   "metadata": {},
   "outputs": [],
   "source": [
    "print(len(x_test))\n",
    "print(len(y_test))\n",
    "\n",
    "\n",
    "## compare this length to our prediction data and notice the difference.  \n",
    "\n",
    "print(len(pred))\n"
   ]
  },
  {
   "cell_type": "code",
   "execution_count": null,
   "id": "eab88a9e-107f-48e1-b36f-bf580d05675a",
   "metadata": {},
   "outputs": [],
   "source": [
    "loss,accuracy = model.evaluate(x_test,y_test)\n",
    "print(\"loss:\",loss)\n",
    "print(\"Accuracy:\",accuracy)"
   ]
  },
  {
   "cell_type": "code",
   "execution_count": null,
   "id": "e0c498e2-8c76-4a3b-baf9-55067d8c7e75",
   "metadata": {},
   "outputs": [],
   "source": [
    "# Get the first batch of data\n",
    "test_image_data, test_labels = test_generator.__getitem__(0)\n"
   ]
  },
  {
   "cell_type": "code",
   "execution_count": null,
   "id": "fcb5f357-d8a7-4c73-8f50-f3418a1442a9",
   "metadata": {},
   "outputs": [],
   "source": [
    "print(test_image_data.shape)\n",
    "print(test_labels.shape)"
   ]
  },
  {
   "cell_type": "code",
   "execution_count": null,
   "id": "d11a5bf8-47c3-4204-b433-c06b618e08c1",
   "metadata": {},
   "outputs": [],
   "source": [
    "z = 0\n",
    "#test filename\n",
    "\n",
    "test_file_names=test_generator.filenames[z]\n",
    "print(test_file_names)\n",
    "\n",
    "test_labels_example=test_generator.labels[z]\n",
    "print(test_labels_example)\n",
    "\n",
    "pred_labels[z]"
   ]
  },
  {
   "cell_type": "code",
   "execution_count": null,
   "id": "014b3d29-8fa6-4771-bdad-144a578f7483",
   "metadata": {
    "scrolled": true
   },
   "outputs": [],
   "source": [
    "test_generator.labels"
   ]
  },
  {
   "cell_type": "code",
   "execution_count": null,
   "id": "4addeada-c495-4bc1-b2fe-6bfbc6d88ad8",
   "metadata": {},
   "outputs": [],
   "source": [
    "test_labels[5]"
   ]
  },
  {
   "cell_type": "code",
   "execution_count": null,
   "id": "257c095c-f8d6-405c-8be9-0f3befb04bfa",
   "metadata": {},
   "outputs": [],
   "source": [
    "test_class_idx=np.argmax(test_labels,axis=1)\n",
    "#test_class_idx[4]\n",
    "test_class_idx"
   ]
  },
  {
   "cell_type": "code",
   "execution_count": null,
   "id": "f3dd069b-93dc-4a82-ab61-12f6b0ee1192",
   "metadata": {},
   "outputs": [],
   "source": [
    "plt.figure(figsize=(12,6))\n",
    "\n",
    "for i in range(18):\n",
    "    sample = random.choice(range(test_generator.samples))\n",
    "    img = test_generator.filenames[sample]\n",
    "    image = cv2.imread(os.path.join(img_dir, img))\n",
    "    image_rgb = cv2.cvtColor(image, cv2.COLOR_BGR2RGB)\n",
    "    \n",
    "    # Retrieve the actual category and predicted category\n",
    "    category = test_generator.labels[sample]\n",
    "    pred_category = pred_labels[sample]\n",
    "    \n",
    "    # Map numerical categories to strings\n",
    "    if category == 1:\n",
    "        label = \"Normal\"\n",
    "    else:\n",
    "        label = \"Cataract\"\n",
    "        \n",
    "    if pred_category == 1:\n",
    "        pred_label = \"Normal\"\n",
    "    else:\n",
    "        pred_label = \"Cataract\"\n",
    "\n",
    "    # Determine if the prediction was correct\n",
    "    result = \"Correct\" if label == pred_label else \"Wrong\"\n",
    "    \n",
    "    # Plot the image with the corresponding labels and results\n",
    "    plt.subplot(3, 6, i + 1)\n",
    "    plt.imshow(image_rgb, interpolation='nearest')\n",
    "    plt.xlabel(\"Actual: {}\\nPrediction: {}\\nResult: {}\\nFilename: {}\\nIndex: {}\".format(\n",
    "        label, pred_label, result, img, sample\n",
    "    ))\n",
    "\n",
    "plt.tight_layout()\n",
    "plt.show()"
   ]
  },
  {
   "cell_type": "code",
   "execution_count": null,
   "id": "44c28405-9cc3-444a-a521-9f2e4554d95a",
   "metadata": {
    "scrolled": true
   },
   "outputs": [],
   "source": [
    "# Assuming you have a DataFrameIterator\n",
    "pred_labels = np.array([])  # Initialize an empty array for predictions\n",
    "\n",
    "for batch in test_generator:\n",
    "    x_batch, _ = batch\n",
    "    pred_batch = model.predict(x_batch, verbose=1)\n",
    "    pred_labels = np.append(pred_labels, np.argmax(pred_batch, axis=1))\n",
    "\n",
    "    # Break the loop when all batches are processed\n",
    "    if len(pred_labels) >= test_generator.samples:\n",
    "        break\n",
    "\n",
    "# Ensure predicted_class_idx matches the length of test_generator.classes\n",
    "predicted_class_idx = pred_labels[:len(test_generator.classes)]\n"
   ]
  },
  {
   "cell_type": "code",
   "execution_count": null,
   "id": "32009e59-8ccb-4611-ba16-9fe665de0de2",
   "metadata": {},
   "outputs": [],
   "source": [
    "from sklearn.metrics import classification_report\n",
    "\n",
    "print('Classification Report')\n",
    "target_names = ['Cataract', 'Normal']\n",
    "print(classification_report(test_generator.classes, predicted_class_idx, target_names=target_names))\n"
   ]
  },
  {
   "cell_type": "code",
   "execution_count": null,
   "id": "4b2b0486-271f-4375-8801-bb7869fe4dd6",
   "metadata": {},
   "outputs": [],
   "source": [
    "cm = confusion_matrix(test_generator.labels, predicted_class_idx)\n",
    "print('Confusion Matrix')\n",
    "cm"
   ]
  },
  {
   "cell_type": "code",
   "execution_count": null,
   "id": "4ed07cb2-d0a0-4426-a311-b483b78bcac6",
   "metadata": {},
   "outputs": [],
   "source": [
    "def plot_confusion_matrix(cm, classes,\n",
    "                        normalize=False,\n",
    "                        title='Confusion matrix',\n",
    "                        cmap=plt.cm.Blues):\n",
    "    \"\"\"\n",
    "    This function prints and plots the confusion matrix.\n",
    "    Normalization can be applied by setting `normalize=True`.\n",
    "    \"\"\"\n",
    "    plt.imshow(cm, interpolation='nearest', cmap=cmap)\n",
    "    plt.title(title)\n",
    "    plt.colorbar()\n",
    "    tick_marks = np.arange(len(classes))\n",
    "    plt.xticks(tick_marks, classes, rotation=45)\n",
    "    plt.yticks(tick_marks, classes)\n",
    "\n",
    "    if normalize:\n",
    "        cm = cm.astype('float') / cm.sum(axis=1)[:, np.newaxis]\n",
    "        print(\"Normalized confusion matrix\")\n",
    "    else:\n",
    "        print('Confusion matrix, without normalization')\n",
    "\n",
    "    print(cm)\n",
    "\n",
    "    thresh = cm.max() / 2.\n",
    "    for i, j in itertools.product(range(cm.shape[0]), range(cm.shape[1])):\n",
    "        plt.text(j, i, cm[i, j],\n",
    "            horizontalalignment=\"center\",\n",
    "            color=\"white\" if cm[i, j] > thresh else \"black\")\n",
    "\n",
    "    plt.tight_layout()\n",
    "    plt.ylabel('True label')\n",
    "    plt.xlabel('Predicted label')"
   ]
  },
  {
   "cell_type": "code",
   "execution_count": null,
   "id": "1747ec6e-8184-4a99-9e52-e2130016ceca",
   "metadata": {},
   "outputs": [],
   "source": [
    "cm_plot_labels = ['cataract','normal']"
   ]
  },
  {
   "cell_type": "code",
   "execution_count": null,
   "id": "1734cd6f-de55-4f7d-9d62-e674df1b6b97",
   "metadata": {
    "scrolled": true
   },
   "outputs": [],
   "source": [
    "plot_confusion_matrix(cm=cm, classes=cm_plot_labels, title='Confusion Matrix')"
   ]
  },
  {
   "cell_type": "code",
   "execution_count": null,
   "id": "f67d0044-1358-4557-b73a-9df58726da95",
   "metadata": {},
   "outputs": [],
   "source": []
  }
 ],
 "metadata": {
  "kernelspec": {
   "display_name": "Python 3 (ipykernel)",
   "language": "python",
   "name": "python3"
  },
  "language_info": {
   "codemirror_mode": {
    "name": "ipython",
    "version": 3
   },
   "file_extension": ".py",
   "mimetype": "text/x-python",
   "name": "python",
   "nbconvert_exporter": "python",
   "pygments_lexer": "ipython3",
   "version": "3.12.5"
  }
 },
 "nbformat": 4,
 "nbformat_minor": 5
}
